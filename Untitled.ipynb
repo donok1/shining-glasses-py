{
 "cells": [
  {
   "cell_type": "code",
   "execution_count": 1,
   "id": "5ddbf4b7-78f9-4869-aeac-3e7aa996df66",
   "metadata": {},
   "outputs": [
    {
     "name": "stdout",
     "output_type": "stream",
     "text": [
      "Running on OperatingSystem.MACOS\n",
      "Adapter: Default Adapter [39a76676-2788-46c9-afa0-f0c0c31e6fd9] [39a76676-2788-46c9-afa0-f0c0c31e6fd9]\n"
     ]
    }
   ],
   "source": [
    "from ble import adapter\n",
    "from driver import ShiningGlassesDriver\n",
    "from shining_glasses import ShiningGlasses, SGBackgroundColorMode, SGTextMode"
   ]
  },
  {
   "cell_type": "code",
   "execution_count": 2,
   "id": "2335ebfe-bb42-4979-81e7-bb99debe91e2",
   "metadata": {},
   "outputs": [
    {
     "name": "stdout",
     "output_type": "stream",
     "text": [
      "Scan started.\n",
      "Scan complete.\n",
      "Scan started.\n",
      "Scan complete.\n",
      "Scan started.\n",
      "Scan complete.\n",
      "Device not found\n"
     ]
    }
   ],
   "source": [
    "driver = ShiningGlassesDriver(adapter)\n",
    "driver.connect()\n",
    "\n",
    "glasses = ShiningGlasses(driver)"
   ]
  },
  {
   "cell_type": "code",
   "execution_count": 3,
   "id": "b5ff5786-e7a8-4007-8822-9632819451b8",
   "metadata": {},
   "outputs": [
    {
     "data": {
      "text/plain": [
       "<bound method Service.<locals>.inner.<locals>.wrapper of <shining_glasses.ShiningGlasses object at 0x107a9d1c0>>"
      ]
     },
     "execution_count": 3,
     "metadata": {},
     "output_type": "execute_result"
    }
   ],
   "source": []
  }
 ],
 "metadata": {
  "kernelspec": {
   "display_name": "Python 3 (ipykernel)",
   "language": "python",
   "name": "python3"
  },
  "language_info": {
   "codemirror_mode": {
    "name": "ipython",
    "version": 3
   },
   "file_extension": ".py",
   "mimetype": "text/x-python",
   "name": "python",
   "nbconvert_exporter": "python",
   "pygments_lexer": "ipython3",
   "version": "3.12.2"
  }
 },
 "nbformat": 4,
 "nbformat_minor": 5
}
