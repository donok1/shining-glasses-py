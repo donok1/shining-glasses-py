{
 "cells": [
  {
   "cell_type": "code",
   "execution_count": 2,
   "id": "5ddbf4b7-78f9-4869-aeac-3e7aa996df66",
   "metadata": {},
   "outputs": [
    {
     "name": "stdout",
     "output_type": "stream",
     "text": [
      "Running on OperatingSystem.MACOS\n",
      "Adapter: Default Adapter [39a76676-2788-46c9-afa0-f0c0c31e6fd9] [39a76676-2788-46c9-afa0-f0c0c31e6fd9]\n"
     ]
    }
   ],
   "source": [
    "from ble import adapter, ble_scan_hats\n",
    "from driver import ShiningGlassesDriver\n",
    "from shining_glasses import ShiningGlasses, SGText, SGBackgroundColorMode, SGTextMode"
   ]
  },
  {
   "cell_type": "code",
   "execution_count": 3,
   "id": "5061acea-46f1-430f-8a0e-69c142e0f71d",
   "metadata": {},
   "outputs": [
    {
     "name": "stdout",
     "output_type": "stream",
     "text": [
      "Scan started.\n",
      "Found ADD6BB43-4484-2225-94A7-99890E2B4AF0 [GLASSES-01FF46]\n",
      "Scan complete.\n"
     ]
    }
   ],
   "source": [
    "# Scan all shinny glasses for 5s\n",
    "ble_scan_hats(adapter) "
   ]
  },
  {
   "cell_type": "code",
   "execution_count": 4,
   "id": "2335ebfe-bb42-4979-81e7-bb99debe91e2",
   "metadata": {},
   "outputs": [
    {
     "name": "stdout",
     "output_type": "stream",
     "text": [
      "Scan started.\n",
      "Found ADD6BB43-4484-2225-94A7-99890E2B4AF0 [GLASSES-01FF46]\n",
      "Scan complete.\n",
      "Connected to GLASSES-01FF46 [ADD6BB43-4484-2225-94A7-99890E2B4AF0]\n"
     ]
    }
   ],
   "source": [
    "# Copy the address of the hat you want [GLASSES-AABBCC] \n",
    "HAT_NAME = \"GLASSES-01FF46\"\n",
    "\n",
    "driver = ShiningGlassesDriver(adapter, device_name=HAT_NAME)\n",
    "driver.connect()\n",
    "\n",
    "glasses = ShiningGlasses(driver)"
   ]
  },
  {
   "cell_type": "code",
   "execution_count": 6,
   "id": "ee521268-1207-46a0-adc5-63bcba5f003f",
   "metadata": {},
   "outputs": [],
   "source": [
    "# Display annimation number X\n",
    "glasses.set_animation(4)   # Dollars"
   ]
  },
  {
   "cell_type": "code",
   "execution_count": 7,
   "id": "09c8028e-68bb-46b1-b157-6bcd7c432ccc",
   "metadata": {},
   "outputs": [],
   "source": [
    "# Display image number x\n",
    "glasses.set_image(4)     # sunglasses "
   ]
  },
  {
   "cell_type": "code",
   "execution_count": 20,
   "id": "85a4a0ab-b00f-4a85-ad62-37ffe7a7eb5c",
   "metadata": {},
   "outputs": [],
   "source": [
    "# Change luminosity\n",
    "glasses.set_light(0)   # between 0 and 100"
   ]
  },
  {
   "cell_type": "code",
   "execution_count": 21,
   "id": "b5ff5786-e7a8-4007-8822-9632819451b8",
   "metadata": {},
   "outputs": [],
   "source": [
    "# Test text, but not working yet, send_text function not implemented yet\n",
    "SGT = SGText(glasses)\n",
    "\n"
   ]
  },
  {
   "cell_type": "code",
   "execution_count": null,
   "id": "25f3a6c1-f6d2-41ce-a627-440e24c0c4b8",
   "metadata": {},
   "outputs": [],
   "source": []
  }
 ],
 "metadata": {
  "kernelspec": {
   "display_name": "Python 3 (ipykernel)",
   "language": "python",
   "name": "python3"
  },
  "language_info": {
   "codemirror_mode": {
    "name": "ipython",
    "version": 3
   },
   "file_extension": ".py",
   "mimetype": "text/x-python",
   "name": "python",
   "nbconvert_exporter": "python",
   "pygments_lexer": "ipython3",
   "version": "3.12.2"
  }
 },
 "nbformat": 4,
 "nbformat_minor": 5
}
